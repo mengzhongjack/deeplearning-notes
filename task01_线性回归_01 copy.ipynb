{
    "cells": [
        {
            "cell_type": "markdown",
            "source": [
                "Talk is cheat , Show me the code ! \r\n",
                "根据代码实现了线性回归的操作过程，也知道了adagrad的大致原理\r\n",
                "\r\n"
            ],
            "metadata": {}
        },
        {
            "cell_type": "code",
            "execution_count": 1,
            "source": [
                "import numpy as np\r\n",
                "import matplotlib.pyplot as plt\r\n",
                "from pylab import mpl\r\n",
                "\r\n",
                "# matplotlib没有中文字体，动态解决\r\n",
                "plt.rcParams['font.sans-serif'] = ['Simhei']  # 显示中文\r\n",
                "mpl.rcParams['axes.unicode_minus'] = False  # 解决保存图像是负号'-'显示为方块的问题"
            ],
            "outputs": [],
            "metadata": {}
        },
        {
            "cell_type": "code",
            "execution_count": 2,
            "source": [
                "x_d = np.asarray( [338., 333., 328., 207., 226., 25., 179., 60., 208., 606.]   )\r\n",
                "y_d = np.asarray( [640., 633., 619., 393., 428., 27., 193., 66., 226., 1591.]  )"
            ],
            "outputs": [],
            "metadata": {}
        },
        {
            "cell_type": "markdown",
            "source": [
                "## 求拟合曲线的值"
            ],
            "metadata": {}
        },
        {
            "cell_type": "code",
            "execution_count": 3,
            "source": [
                "# 定义损失函数\r\n",
                "def loss_function(y_d,y_hat,m):\r\n",
                "    return np.dot(y_d-y_hat, y_d-y_hat)/m/2\r\n",
                "\r\n",
                "# 定义 b 梯度函数\r\n",
                "def grad_b_function(y_d, y_hat, m):\r\n",
                "    return -1 * np.sum(y_d - y_hat) / m\r\n",
                "\r\n",
                "# 定义 w 梯度函数\r\n",
                "def grad_w_function(y_d, y_hat, m):\r\n",
                "    return -1 * np.dot(y_d - y_hat, x_d) / m\r\n",
                "\r\n",
                "# linear regression\r\n",
                "#b = -120\r\n",
                "#w = -4\r\n",
                "m = float(len(x_d))\r\n",
                "b=-2\r\n",
                "w=0.01\r\n",
                "lr = 0.000005\r\n",
                "iteration = 1400000\r\n",
                "\r\n",
                "b_history = [b]\r\n",
                "w_history = [w]\r\n",
                "loss_history = []\r\n",
                "import time\r\n",
                "start = time.time()\r\n",
                "for i in range(iteration):\r\n",
                "    y_hat = w * x_d  +b\r\n",
                "    loss = loss_function(y_d , y_hat , m )\r\n",
                "    grad_b = grad_b_function(y_d, y_hat, m)\r\n",
                "    grad_w = grad_w_function(y_d, y_hat, m)\r\n",
                "    # update param\r\n",
                "    b -= lr * grad_b\r\n",
                "    w -= lr * grad_w\r\n",
                "\r\n",
                "    b_history.append(b)\r\n",
                "    w_history.append(w)\r\n",
                "    loss_history.append(loss)\r\n",
                "    if i % 50000 == 0:\r\n",
                "        print(\"Step %7d, w: %0.4f, b: %4.4f, Loss: %.4f\" % (i, w, b, loss))\r\n",
                "end = time.time()\r\n",
                "print(\"大约需要时间：\",end-start)"
            ],
            "outputs": [
                {
                    "output_type": "stream",
                    "name": "stdout",
                    "text": [
                        "Step       0, w: 0.9374, b: -1.9976, Loss: 206894.6910\n",
                        "Step   50000, w: 2.1697, b: -14.5410, Loss: 9310.2246\n",
                        "Step  100000, w: 2.2034, b: -26.2434, Loss: 8762.2094\n",
                        "Step  150000, w: 2.2347, b: -37.1583, Loss: 8285.4718\n",
                        "Step  200000, w: 2.2640, b: -47.3386, Loss: 7870.7413\n",
                        "Step  250000, w: 2.2913, b: -56.8339, Loss: 7509.9528\n",
                        "Step  300000, w: 2.3167, b: -65.6901, Loss: 7196.0903\n",
                        "Step  350000, w: 2.3405, b: -73.9504, Loss: 6923.0504\n",
                        "Step  400000, w: 2.3626, b: -81.6547, Loss: 6685.5235\n",
                        "Step  450000, w: 2.3832, b: -88.8406, Loss: 6478.8905\n",
                        "Step  500000, w: 2.4025, b: -95.5429, Loss: 6299.1334\n",
                        "Step  550000, w: 2.4205, b: -101.7941, Loss: 6142.7564\n",
                        "Step  600000, w: 2.4372, b: -107.6247, Loss: 6006.7186\n",
                        "Step  650000, w: 2.4529, b: -113.0629, Loss: 5888.3746\n",
                        "Step  700000, w: 2.4674, b: -118.1351, Loss: 5785.4230\n",
                        "Step  750000, w: 2.4810, b: -122.8659, Loss: 5695.8618\n",
                        "Step  800000, w: 2.4937, b: -127.2784, Loss: 5617.9495\n",
                        "Step  850000, w: 2.5055, b: -131.3940, Loss: 5550.1708\n",
                        "Step  900000, w: 2.5166, b: -135.2325, Loss: 5491.2078\n",
                        "Step  950000, w: 2.5269, b: -138.8128, Loss: 5439.9138\n",
                        "Step 1000000, w: 2.5365, b: -142.1521, Loss: 5395.2914\n",
                        "Step 1050000, w: 2.5454, b: -145.2667, Loss: 5356.4728\n",
                        "Step 1100000, w: 2.5538, b: -148.1716, Loss: 5322.7031\n",
                        "Step 1150000, w: 2.5615, b: -150.8811, Loss: 5293.3257\n",
                        "Step 1200000, w: 2.5688, b: -153.4083, Loss: 5267.7693\n",
                        "Step 1250000, w: 2.5756, b: -155.7653, Loss: 5245.5369\n",
                        "Step 1300000, w: 2.5819, b: -157.9638, Loss: 5226.1961\n",
                        "Step 1350000, w: 2.5878, b: -160.0143, Loss: 5209.3710\n",
                        "大约需要时间： 50.55351686477661\n"
                    ]
                }
            ],
            "metadata": {}
        },
        {
            "cell_type": "code",
            "execution_count": 4,
            "source": [
                "# 函数，画出参数变化曲线\r\n",
                "def plot_history_of_w_b(m, b_history, w_history):\r\n",
                "    # plot the figure\r\n",
                "    x = np.arange(-200, -100, 1)\r\n",
                "    y = np.arange(-5, 5, 0.1)\r\n",
                "    Z = np.zeros((len(x), len(y)))\r\n",
                "    X, Y = np.meshgrid(x, y)\r\n",
                "\r\n",
                "\r\n",
                "    # loss\r\n",
                "    for i in range(len(x)):\r\n",
                "        for j in range(len(y)):\r\n",
                "            b = x[i]\r\n",
                "            w = y[j]\r\n",
                "            Z[j][i] = 0  # meshgrid吐出结果：y为行，x为列\r\n",
                "            for n in range(len(x_d)):\r\n",
                "                Z[j][i] += (y_d[n] - b - w * x_d[n]) ** 2\r\n",
                "            Z[j][i] /= len(x_d)\r\n",
                "\r\n",
                "    plt.contourf(x, y, Z, 50, alpha=0.5, cmap=plt.get_cmap('jet'))  # 填充等高线\r\n",
                "    plt.plot([-188.4], [2.67], 'x', ms=12, mew=3, color=\"orange\")\r\n",
                "    plt.plot(b_history, w_history, 'o-', ms=3, lw=1.5, color='black')\r\n",
                "    plt.xlim(-200, -100)\r\n",
                "    plt.ylim(-5, 5)\r\n",
                "    plt.xlabel(r'$b$')\r\n",
                "    plt.ylabel(r'$w$')\r\n",
                "    plt.title(\"线性回归\")\r\n",
                "    plt.show()\r\n",
                "plot_history_of_w_b(m,b_history,w_history)"
            ],
            "outputs": [
                {
                    "output_type": "display_data",
                    "data": {
                        "text/plain": [
                            "<Figure size 432x288 with 1 Axes>"
                        ],
                        "image/png": "[encoded data removed]"
                    },
                    "metadata": {
                        "needs_background": "light"
                    }
                }
            ],
            "metadata": {}
        },
        {
            "cell_type": "code",
            "execution_count": 7,
            "source": [
                "# 定义损失函数\r\n",
                "def loss_function(y_d,y_hat,m):\r\n",
                "    return np.dot(y_d-y_hat, y_d-y_hat)/m/2\r\n",
                "\r\n",
                "# 定义 b 梯度函数\r\n",
                "def grad_b_function(y_d, y_hat, m):\r\n",
                "    return -1 * np.sum(y_d - y_hat) / m\r\n",
                "\r\n",
                "# 定义 w 梯度函数\r\n",
                "def grad_w_function(y_d, y_hat, m):\r\n",
                "    return -1 * np.dot(y_d - y_hat, x_d) / m\r\n",
                "\r\n",
                "# linear regression\r\n",
                "#b = -120\r\n",
                "#w = -4\r\n",
                "m = float(len(x_d))\r\n",
                "b=-2\r\n",
                "w=0.01\r\n",
                "lr = 0.000005\r\n",
                "iteration = 1400000\r\n",
                "\r\n",
                "b_history = [b]\r\n",
                "w_history = [w]\r\n",
                "loss_history = []\r\n",
                "import time\r\n",
                "start = time.time()\r\n",
                "for i in range(iteration):\r\n",
                "    y_hat = w * x_d  +b\r\n",
                "    loss = loss_function(y_d , y_hat , m )\r\n",
                "    grad_b = grad_b_function(y_d, y_hat, m)\r\n",
                "    grad_w = grad_w_function(y_d, y_hat, m)\r\n",
                "    # update param\r\n",
                "    # lr = lr**i/np.sqrt(i+1)\r\n",
                "\r\n",
                "    b -= lr * grad_b\r\n",
                "    w -= lr * grad_w\r\n",
                "\r\n",
                "    b_history.append(b)\r\n",
                "    w_history.append(w)\r\n",
                "    loss_history.append(loss)\r\n",
                "    if i % 50000 == 0:\r\n",
                "        print(\"Step %7d, w: %0.4f, b: %4.4f, Loss: %.4f\" % (i, w, b, loss))\r\n",
                "end = time.time()\r\n",
                "print(\"大约需要时间：\",end-start)"
            ],
            "outputs": [
                {
                    "output_type": "stream",
                    "name": "stdout",
                    "text": [
                        "Step       0, w: 0.9374, b: -1.9976, Loss: 206894.6910\n",
                        "Step   50000, w: 2.1697, b: -14.5410, Loss: 9310.2246\n",
                        "Step  100000, w: 2.2034, b: -26.2434, Loss: 8762.2094\n",
                        "Step  150000, w: 2.2347, b: -37.1583, Loss: 8285.4718\n",
                        "Step  200000, w: 2.2640, b: -47.3386, Loss: 7870.7413\n",
                        "Step  250000, w: 2.2913, b: -56.8339, Loss: 7509.9528\n",
                        "Step  300000, w: 2.3167, b: -65.6901, Loss: 7196.0903\n",
                        "Step  350000, w: 2.3405, b: -73.9504, Loss: 6923.0504\n",
                        "Step  400000, w: 2.3626, b: -81.6547, Loss: 6685.5235\n",
                        "Step  450000, w: 2.3832, b: -88.8406, Loss: 6478.8905\n",
                        "Step  500000, w: 2.4025, b: -95.5429, Loss: 6299.1334\n",
                        "Step  550000, w: 2.4205, b: -101.7941, Loss: 6142.7564\n",
                        "Step  600000, w: 2.4372, b: -107.6247, Loss: 6006.7186\n",
                        "Step  650000, w: 2.4529, b: -113.0629, Loss: 5888.3746\n",
                        "Step  700000, w: 2.4674, b: -118.1351, Loss: 5785.4230\n",
                        "Step  750000, w: 2.4810, b: -122.8659, Loss: 5695.8618\n",
                        "Step  800000, w: 2.4937, b: -127.2784, Loss: 5617.9495\n",
                        "Step  850000, w: 2.5055, b: -131.3940, Loss: 5550.1708\n",
                        "Step  900000, w: 2.5166, b: -135.2325, Loss: 5491.2078\n",
                        "Step  950000, w: 2.5269, b: -138.8128, Loss: 5439.9138\n",
                        "Step 1000000, w: 2.5365, b: -142.1521, Loss: 5395.2914\n",
                        "Step 1050000, w: 2.5454, b: -145.2667, Loss: 5356.4728\n",
                        "Step 1100000, w: 2.5538, b: -148.1716, Loss: 5322.7031\n",
                        "Step 1150000, w: 2.5615, b: -150.8811, Loss: 5293.3257\n",
                        "Step 1200000, w: 2.5688, b: -153.4083, Loss: 5267.7693\n",
                        "Step 1250000, w: 2.5756, b: -155.7653, Loss: 5245.5369\n",
                        "Step 1300000, w: 2.5819, b: -157.9638, Loss: 5226.1961\n",
                        "Step 1350000, w: 2.5878, b: -160.0143, Loss: 5209.3710\n",
                        "大约需要时间： 47.4529972076416\n"
                    ]
                }
            ],
            "metadata": {}
        }
    ],
    "metadata": {
        "orig_nbformat": 4,
        "language_info": {
            "name": "python"
        }
    },
    "nbformat": 4,
    "nbformat_minor": 2
}